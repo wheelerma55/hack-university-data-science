{
 "cells": [
  {
   "cell_type": "markdown",
   "metadata": {},
   "source": [
    "# Probability\n",
    "\n",
    "The goals of the exercises below are to:\n",
    "1. Familiarize yourself with common probability distributions, and learn to simulate data by drawing random samples from these distributions using the numpy.random library.\n",
    "1. Learn to make graphs using matplotlib.\n",
    "1. Investigate the evolution of a stochastic system using a random walk with symmetric and assymetric probabilities."
   ]
  },
  {
   "cell_type": "code",
   "execution_count": 1,
   "metadata": {
    "collapsed": true
   },
   "outputs": [],
   "source": [
    "%matplotlib inline\n",
    "import matplotlib.pyplot as plt\n",
    "import numpy as np\n",
    "#  from __future__ import division  # Python 2 users uncomment this line"
   ]
  },
  {
   "cell_type": "markdown",
   "metadata": {},
   "source": [
    "# Law of large numbers"
   ]
  },
  {
   "cell_type": "code",
   "execution_count": 38,
   "metadata": {
    "collapsed": false
   },
   "outputs": [
    {
     "data": {
      "text/plain": [
       "array([1, 0, 0, 1, 1, 0, 1, 1, 1, 1])"
      ]
     },
     "execution_count": 38,
     "metadata": {},
     "output_type": "execute_result"
    }
   ],
   "source": [
    "heads = np.random.randint(2, size=10)\n",
    "heads"
   ]
  },
  {
   "cell_type": "code",
   "execution_count": 39,
   "metadata": {
    "collapsed": false
   },
   "outputs": [
    {
     "data": {
      "text/plain": [
       "10"
      ]
     },
     "execution_count": 39,
     "metadata": {},
     "output_type": "execute_result"
    }
   ],
   "source": [
    "len(heads)"
   ]
  },
  {
   "cell_type": "code",
   "execution_count": 43,
   "metadata": {
    "collapsed": false
   },
   "outputs": [
    {
     "data": {
      "text/plain": [
       "array([1, 0, 0, 1, 1, 0, 1, 1, 1, 1])"
      ]
     },
     "execution_count": 43,
     "metadata": {},
     "output_type": "execute_result"
    }
   ],
   "source": [
    "heads[0:len(heads)]"
   ]
  },
  {
   "cell_type": "code",
   "execution_count": 44,
   "metadata": {
    "collapsed": false
   },
   "outputs": [
    {
     "data": {
      "text/plain": [
       "7"
      ]
     },
     "execution_count": 44,
     "metadata": {},
     "output_type": "execute_result"
    }
   ],
   "source": [
    "sum(heads[0:len(heads)])"
   ]
  },
  {
   "cell_type": "code",
   "execution_count": 40,
   "metadata": {
    "collapsed": false
   },
   "outputs": [
    {
     "data": {
      "text/plain": [
       "[[1, 1.0],\n",
       " [2, 0.5],\n",
       " [3, 0.33333333333333331],\n",
       " [4, 0.5],\n",
       " [5, 0.59999999999999998],\n",
       " [6, 0.5],\n",
       " [7, 0.5714285714285714],\n",
       " [8, 0.625],\n",
       " [9, 0.66666666666666663]]"
      ]
     },
     "execution_count": 40,
     "metadata": {},
     "output_type": "execute_result"
    }
   ],
   "source": [
    "n_heads = [[n, sum(heads[0:n])/n] for n in range(1, len(heads))]\n",
    "n_heads"
   ]
  },
  {
   "cell_type": "code",
   "execution_count": 2,
   "metadata": {
    "collapsed": false
   },
   "outputs": [
    {
     "data": {
      "text/plain": [
       "(0, 1)"
      ]
     },
     "execution_count": 2,
     "metadata": {},
     "output_type": "execute_result"
    },
    {
     "data": {
      "image/png": "[encoded data removed]",
      "text/plain": [
       "<matplotlib.figure.Figure at 0x10bbfc240>"
      ]
     },
     "metadata": {},
     "output_type": "display_data"
    }
   ],
   "source": [
    "# Simulate the toss of a fair coin and plot the proportion of times it comes up \"heads\"\n",
    "# Heads is represented by \"1\", tails by \"0\"\n",
    "heads = np.random.randint(2, size=1000)\n",
    "n_heads = [[n, sum(heads[0:n])/n] for n in range(1, len(heads))]\n",
    "plt.plot(*zip(*n_heads))\n",
    "plt.xlabel(\"Number Coin Flips\")\n",
    "plt.ylabel(\"Proportion Heads\")\n",
    "plt.ylim(0,1)"
   ]
  },
  {
   "cell_type": "markdown",
   "metadata": {},
   "source": [
    "### Exercise\n",
    "Graph the fraction of times a \"3\" is rolled on a fair die as a function of the number of rolls, similar to the above for the coin flip."
   ]
  },
  {
   "cell_type": "code",
   "execution_count": 3,
   "metadata": {
    "collapsed": false
   },
   "outputs": [
    {
     "data": {
      "text/plain": [
       "array([2, 4, 5, 3, 3, 4, 1, 1, 4, 1])"
      ]
     },
     "execution_count": 3,
     "metadata": {},
     "output_type": "execute_result"
    }
   ],
   "source": [
    "rolls = np.random.randint(1,6, size=10)\n",
    "rolls"
   ]
  },
  {
   "cell_type": "markdown",
   "metadata": {},
   "source": [
    "# Probability distributions"
   ]
  },
  {
   "cell_type": "code",
   "execution_count": 4,
   "metadata": {
    "collapsed": false
   },
   "outputs": [
    {
     "data": {
      "text/plain": [
       "array([False, False, False,  True,  True, False, False, False, False, False], dtype=bool)"
      ]
     },
     "execution_count": 4,
     "metadata": {},
     "output_type": "execute_result"
    }
   ],
   "source": [
    "rolls == 3"
   ]
  },
  {
   "cell_type": "markdown",
   "metadata": {},
   "source": [
    "### Probability distribution for roll of two dice"
   ]
  },
  {
   "cell_type": "code",
   "execution_count": null,
   "metadata": {
    "collapsed": true
   },
   "outputs": [],
   "source": []
  },
  {
   "cell_type": "code",
   "execution_count": 5,
   "metadata": {
    "collapsed": false
   },
   "outputs": [
    {
     "data": {
      "text/plain": [
       "<matplotlib.text.Text at 0x10dfeffd0>"
      ]
     },
     "execution_count": 5,
     "metadata": {},
     "output_type": "execute_result"
    },
    {
     "data": {
      "image/png": "[encoded data removed]",
      "text/plain": [
       "<matplotlib.figure.Figure at 0x10bbfc1d0>"
      ]
     },
     "metadata": {},
     "output_type": "display_data"
    }
   ],
   "source": [
    "onedie = range(1,7)\n",
    "twodie = [i+j for i in onedie for j in onedie]\n",
    "plt.hist(twodie, bins=range(1,14), normed=True)\n",
    "plt.xlabel(\"Sum of Two Die\")\n",
    "plt.ylabel(\"Probability\")"
   ]
  },
  {
   "cell_type": "markdown",
   "metadata": {},
   "source": [
    "### Exercise: Histogram of a sample \n",
    "1. Create a histogram of values drawn from the distributions presented using `numpy.random`. \n",
    "1. Add a line graph of the mathematical representation of the distribution.\n",
    "1. Add vertical lines showing the theoretical mean, median, and mode. Add a horizontal line showing the population standard deviation. \n",
    "1. Calculate the sample mean and sample standard deviation, compare with the values for the population.\n",
    "1. Vary the sample size. How large does the sample have to be to approximate the mathematical distribution?\n",
    "\n",
    "The example below should get you started."
   ]
  },
  {
   "cell_type": "code",
   "execution_count": 10,
   "metadata": {
    "collapsed": false
   },
   "outputs": [
    {
     "data": {
      "text/plain": [
       "<matplotlib.text.Annotation at 0x10e5a3ba8>"
      ]
     },
     "execution_count": 10,
     "metadata": {},
     "output_type": "execute_result"
    },
    {
     "data": {
      "image/png": "[encoded data removed]",
      "text/plain": [
       "<matplotlib.figure.Figure at 0x10e52db38>"
      ]
     },
     "metadata": {},
     "output_type": "display_data"
    }
   ],
   "source": [
    "mean = 0\n",
    "std = 1\n",
    "\n",
    "def _gauss(x, mu=mean, sigma=std):\n",
    "    return 1/(sigma*np.sqrt(2*np.pi)) * np.exp(-0.5*pow((x-mu)/sigma,2))\n",
    "\n",
    "gauss = np.vectorize(_gauss)\n",
    "sample = [np.random.normal() for i in range(100)]\n",
    "x = np.arange(-4,4,0.1)\n",
    "fig = plt.figure(figsize=(16,12))\n",
    "ax = fig.add_subplot(111)\n",
    "\n",
    "ax.hist(sample, normed=True)\n",
    "ax.plot(x, gauss(x))\n",
    "ylim = ax.get_ylim()\n",
    "xlim = ax.get_xlim()\n",
    "ax.axvline(x=0, color=\"red\")\n",
    "ax.annotate(\"mean\", xy=(mean, ylim[-1]*0.95), color = \"red\", fontsize=16)\n",
    "ax.autoscale(False)\n",
    "ax.plot((mean-std, mean+std), (0.1, 0.1), color=\"red\")\n",
    "ax.annotate(r\"mean $\\pm$ std\", xy=(mean, 0.11), color = \"red\", fontsize=16)\n"
   ]
  },
  {
   "cell_type": "markdown",
   "metadata": {
    "collapsed": true
   },
   "source": [
    "# 2-D Random Walk\n",
    "Random walks are used to simulate a great number of processes, such as diffusion and animal foraging behavior. Here we will build a simulation of the classic \"Drunkard's Walk\". The drunkard walks on a two-dimensional lattice, choosing north, south, east, or west with equal probability. \n",
    "\n",
    "I will use this opportunity to show how to write a class in python."
   ]
  },
  {
   "cell_type": "code",
   "execution_count": 6,
   "metadata": {
    "collapsed": false
   },
   "outputs": [],
   "source": [
    "class Walker(object):\n",
    "    \"\"\" The base class for a random walker.\"\"\"\n",
    "    def __init__(self, x0=0, y0=0, weights=[1,1,1,1]):\n",
    "        \"\"\" The walker starts at position (x0, y0). At each step he moves]\n",
    "             in a direction [N,E,S,W] with probability proportional to the \n",
    "             weights given.\n",
    "        \"\"\"\n",
    "        self.pos = np.array([x0,y0])\n",
    "        self.prob = np.array(weights)/sum(weights)\n",
    "        # define the directions [N,E,S,W]\n",
    "        self.directions = np.array([[0,1], [1,0], [0,-1], [-1,0]])\n",
    "            \n",
    "    def move(self):\n",
    "        \"\"\" Execute one step and return the new position.\"\"\"\n",
    "        direction = np.random.choice(len(self.prob), p=self.prob)\n",
    "        self.pos += self.directions[direction]\n",
    "        return self.pos\n",
    "            "
   ]
  },
  {
   "cell_type": "code",
   "execution_count": 7,
   "metadata": {
    "collapsed": false
   },
   "outputs": [
    {
     "data": {
      "text/plain": [
       "[<matplotlib.lines.Line2D at 0x10e4b2828>]"
      ]
     },
     "execution_count": 7,
     "metadata": {},
     "output_type": "execute_result"
    },
    {
     "data": {
      "image/png": "[encoded data removed]",
      "text/plain": [
       "<matplotlib.figure.Figure at 0x10e38b4a8>"
      ]
     },
     "metadata": {},
     "output_type": "display_data"
    }
   ],
   "source": [
    "# Compare the path of the walker shown below with your neighbor.\n",
    "mywalker = Walker()\n",
    "nsteps = 1000\n",
    "walk = [tuple(mywalker.move()) for i in range(nsteps)]\n",
    "plt.plot(*zip(*walk))"
   ]
  },
  {
   "cell_type": "code",
   "execution_count": 23,
   "metadata": {
    "collapsed": true
   },
   "outputs": [],
   "source": [
    "class Walker2(object):\n",
    "    \"\"\" The base class for a random walker.\"\"\"\n",
    "#    def __init__(self, x0=0, y0=0, weights=[1,1,1,1]):\n",
    "    def __init__(self, x0=0, y0=0, weights=[0.25,0.35,0.25,0.15]):\n",
    "        \"\"\" The walker starts at position (x0, y0). At each step he moves]\n",
    "             in a direction [N,E,S,W] with probability proportional to the \n",
    "             weights given.\n",
    "        \"\"\"\n",
    "        self.pos = np.array([x0,y0])\n",
    "        self.prob = np.array(weights)/sum(weights)\n",
    "        # define the directions [N,E,S,W]\n",
    "        self.directions = np.array([[0,1], [1,0], [0,-1], [-1,0]])\n",
    "            \n",
    "    def move(self):\n",
    "        \"\"\" Execute one step and return the new position.\"\"\"\n",
    "        direction = np.random.choice(len(self.prob), p=self.prob)\n",
    "        self.pos += self.directions[direction]\n",
    "        return self.pos"
   ]
  },
  {
   "cell_type": "code",
   "execution_count": 32,
   "metadata": {
    "collapsed": false
   },
   "outputs": [
    {
     "data": {
      "text/plain": [
       "[(18, -6), (19, -6), (18, -6), (18, -5)]"
      ]
     },
     "execution_count": 32,
     "metadata": {},
     "output_type": "execute_result"
    },
    {
     "data": {
      "image/png": "[encoded data removed]",
      "text/plain": [
       "<matplotlib.figure.Figure at 0x10f0a8748>"
      ]
     },
     "metadata": {},
     "output_type": "display_data"
    }
   ],
   "source": [
    "mywalker100 = Walker2()\n",
    "nsteps = 100\n",
    "walk = [tuple(mywalker100.move()) for i in range(nsteps)]\n",
    "\n",
    "plt.plot(*zip(*walk))\n",
    "walk[95:99] # position of the walker will be after 100 steps\n"
   ]
  },
  {
   "cell_type": "markdown",
   "metadata": {},
   "source": [
    "### Exercise\n",
    "What do you think the expected value of the position of the walker will be after 100 steps?\n",
    "\n",
    "What if you change the probabilities of each direction so they are not all equal? Say there is a strong wind coming from the west, so the walker will choose west 15% of the time, E 35% of the time, N or S each 25%. How will that affect the expected value of the position after 100 steps?\n",
    "\n",
    "Run simulations of the above scenerios and calculate the average position after 100 steps (which tends to the expected value of the position as the number of simulations goes to infinity)."
   ]
  }
 ],
 "metadata": {
  "kernelspec": {
   "display_name": "Python [Root]",
   "language": "python",
   "name": "Python [Root]"
  },
  "language_info": {
   "codemirror_mode": {
    "name": "ipython",
    "version": 3
   },
   "file_extension": ".py",
   "mimetype": "text/x-python",
   "name": "python",
   "nbconvert_exporter": "python",
   "pygments_lexer": "ipython3",
   "version": "3.5.2"
  }
 },
 "nbformat": 4,
 "nbformat_minor": 0
}
